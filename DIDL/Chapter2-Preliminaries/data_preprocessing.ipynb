{
 "cells": [
  {
   "cell_type": "code",
   "execution_count": 20,
   "id": "35c4870f-8614-47ec-90c8-3db115f0e720",
   "metadata": {
    "tags": []
   },
   "outputs": [
    {
     "name": "stdout",
     "output_type": "stream",
     "text": [
      "   age   workclass  fnlwgt   education  education-num  marital-status  \\\n",
      "0   39   State-gov   77516   Bachelors             13   Never-married   \n",
      "\n",
      "      occupation    relationship    race    sex  capital-gain  capital-loss  \\\n",
      "0   Adm-clerical   Not-in-family   White   Male          2174             0   \n",
      "\n",
      "   hours-per-week  native-country salary-range  \n",
      "0              40   United-States        <=50K  \n"
     ]
    }
   ],
   "source": [
    "import os\n",
    "import pandas as pd\n",
    "\n",
    "data_file = os.path.join('.', 'data/adult', 'adult.data')\n",
    "data = pd.read_csv(\n",
    "    data_file\n",
    "    , names = [\n",
    "        'age', 'workclass', 'fnlwgt'\n",
    "        , 'education', 'education-num', 'marital-status'\n",
    "        , 'occupation', 'relationship', 'race'\n",
    "        , 'sex', 'capital-gain', 'capital-loss'\n",
    "        , 'hours-per-week', 'native-country', 'salary-range'\n",
    "    ]\n",
    "    , index_col=False\n",
    ")\n",
    "print(data.iloc[:1, :])"
   ]
  },
  {
   "cell_type": "code",
   "execution_count": 18,
   "id": "10c49db4-f1d7-41be-ab45-4a9e668e820a",
   "metadata": {
    "tags": []
   },
   "outputs": [
    {
     "data": {
      "text/plain": [
       "Index(['age', 'workclass', 'fnlwgt', 'education', 'education-num',\n",
       "       'marital-status', 'occupation', 'relationship', 'race', 'sex',\n",
       "       'capital-gain', 'capital-loss', 'hours-per-week', 'native-country'],\n",
       "      dtype='object')"
      ]
     },
     "execution_count": 18,
     "metadata": {},
     "output_type": "execute_result"
    }
   ],
   "source": [
    "data.columns"
   ]
  },
  {
   "cell_type": "code",
   "execution_count": 21,
   "id": "8511667f-7e82-4236-88f5-eb5b4ff4e627",
   "metadata": {
    "tags": []
   },
   "outputs": [
    {
     "data": {
      "text/plain": [
       "array([' <=50K', ' >50K'], dtype=object)"
      ]
     },
     "execution_count": 21,
     "metadata": {},
     "output_type": "execute_result"
    }
   ],
   "source": [
    "data['salary-range'].unique()"
   ]
  },
  {
   "cell_type": "code",
   "execution_count": null,
   "id": "d33f8f0e-6f8d-446a-b753-1c260bd95252",
   "metadata": {},
   "outputs": [],
   "source": []
  }
 ],
 "metadata": {
  "kernelspec": {
   "display_name": "sagemaker-distribution:Python",
   "language": "python",
   "name": "conda-env-sagemaker-distribution-py"
  },
  "language_info": {
   "codemirror_mode": {
    "name": "ipython",
    "version": 3
   },
   "file_extension": ".py",
   "mimetype": "text/x-python",
   "name": "python",
   "nbconvert_exporter": "python",
   "pygments_lexer": "ipython3",
   "version": "3.10.14"
  }
 },
 "nbformat": 4,
 "nbformat_minor": 5
}
