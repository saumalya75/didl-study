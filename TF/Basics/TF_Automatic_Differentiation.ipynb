{
 "cells": [
  {
   "cell_type": "code",
   "execution_count": 1,
   "id": "38f46986-de5d-4935-a83e-c6a489465f82",
   "metadata": {
    "tags": []
   },
   "outputs": [
    {
     "name": "stderr",
     "output_type": "stream",
     "text": [
      "2025-02-20 05:57:24.624554: I tensorflow/core/platform/cpu_feature_guard.cc:182] This TensorFlow binary is optimized to use available CPU instructions in performance-critical operations.\n",
      "To enable the following instructions: SSE4.1 SSE4.2 AVX AVX2 AVX512F FMA, in other operations, rebuild TensorFlow with the appropriate compiler flags.\n"
     ]
    }
   ],
   "source": [
    "import numpy as np\n",
    "import matplotlib.pyplot as plt\n",
    "\n",
    "import tensorflow as tf"
   ]
  },
  {
   "cell_type": "code",
   "execution_count": 3,
   "id": "35f1f7ae-bfb3-4a37-bcc1-f1e37aaa4f74",
   "metadata": {
    "tags": []
   },
   "outputs": [
    {
     "data": {
      "text/markdown": [
       "## Computing gradients\n",
       "To differentiate automatically, TensorFlow needs to remember what operations happen in what order during the forward pass. Then, during the backward pass, TensorFlow traverses this list of operations in reverse order to compute gradients.\n"
      ],
      "text/plain": [
       "<IPython.core.display.Markdown object>"
      ]
     },
     "metadata": {},
     "output_type": "display_data"
    }
   ],
   "source": [
    "%%markdown\n",
    "## Computing gradients\n",
    "To differentiate automatically, TensorFlow needs to remember what operations happen in what order during the forward pass. Then, during the backward pass, TensorFlow traverses this list of operations in reverse order to compute gradients."
   ]
  },
  {
   "cell_type": "code",
   "execution_count": 4,
   "id": "74c77a3e-0988-4da3-a02c-1a9a097d66e7",
   "metadata": {
    "tags": []
   },
   "outputs": [
    {
     "data": {
      "text/markdown": [
       "### Gradient tapes\n",
       "TensorFlow provides the `tf.GradientTape` API for automatic differentiation;\n",
       "that is, computing the gradient of a computation with respect to some inputs, usually `tf.Variables`.\n",
       "TensorFlow \"records\" relevant operations executed inside the context of a `tf.GradientTape` onto a \"tape\".\n",
       "TensorFlow then uses that tape to compute the gradients of a \"recorded\" computation using `reverse mode differentiation`.\n"
      ],
      "text/plain": [
       "<IPython.core.display.Markdown object>"
      ]
     },
     "metadata": {},
     "output_type": "display_data"
    }
   ],
   "source": [
    "%%markdown\n",
    "### Gradient tapes\n",
    "TensorFlow provides the `tf.GradientTape` API for automatic differentiation;\n",
    "that is, computing the gradient of a computation with respect to some inputs, usually `tf.Variables`.\n",
    "TensorFlow \"records\" relevant operations executed inside the context of a `tf.GradientTape` onto a \"tape\".\n",
    "TensorFlow then uses that tape to compute the gradients of a \"recorded\" computation using `reverse mode differentiation`."
   ]
  },
  {
   "cell_type": "code",
   "execution_count": 5,
   "id": "3175e900-71a2-4cf4-94dc-fb9714da8dbb",
   "metadata": {
    "tags": []
   },
   "outputs": [],
   "source": [
    "w = tf.Variable(tf.random.normal((3, 2)), name='w')\n",
    "b = tf.Variable(tf.zeros(2, dtype=tf.float32), name='b')\n",
    "x = [[1., 2., 3.]]\n",
    "\n",
    "with tf.GradientTape(persistent=True) as tape:\n",
    "  y = x @ w + b\n",
    "  loss = tf.reduce_mean(y**2)"
   ]
  },
  {
   "cell_type": "code",
   "execution_count": 6,
   "id": "32794315-5997-49e2-afef-7fda57e5353b",
   "metadata": {
    "tags": []
   },
   "outputs": [
    {
     "data": {
      "text/markdown": [
       "To get the gradient of loss with respect to both variables, you can pass both as sources to the gradient method.\n",
       "The tape is flexible about how sources are passed and will accept any nested combination of lists or dictionaries\n",
       "and return the gradient structured the same way (see `tf.nest`).\n"
      ],
      "text/plain": [
       "<IPython.core.display.Markdown object>"
      ]
     },
     "metadata": {},
     "output_type": "display_data"
    }
   ],
   "source": [
    "%%markdown\n",
    "To get the gradient of loss with respect to both variables, you can pass both as sources to the gradient method.\n",
    "The tape is flexible about how sources are passed and will accept any nested combination of lists or dictionaries\n",
    "and return the gradient structured the same way (see `tf.nest`)."
   ]
  },
  {
   "cell_type": "code",
   "execution_count": 7,
   "id": "77892089-5602-4350-842f-b2b8f0deeaf3",
   "metadata": {
    "tags": []
   },
   "outputs": [],
   "source": [
    "[dl_dw, dl_db] = tape.gradient(loss, [w, b])"
   ]
  },
  {
   "cell_type": "code",
   "execution_count": 14,
   "id": "7d5aca55-0d2f-46eb-90bb-27709102e2c2",
   "metadata": {
    "tags": []
   },
   "outputs": [
    {
     "data": {
      "text/markdown": [
       "The gradient with respect to each source has the shape of the source:\n"
      ],
      "text/plain": [
       "<IPython.core.display.Markdown object>"
      ]
     },
     "metadata": {},
     "output_type": "display_data"
    }
   ],
   "source": [
    "%%markdown\n",
    "The gradient with respect to each source has the shape of the source:"
   ]
  },
  {
   "cell_type": "code",
   "execution_count": 15,
   "id": "94e76686-4637-4568-9cc0-e093ee54ca52",
   "metadata": {
    "tags": []
   },
   "outputs": [
    {
     "name": "stdout",
     "output_type": "stream",
     "text": [
      "(3, 2)\n",
      "(3, 2)\n"
     ]
    }
   ],
   "source": [
    "print(w.shape)\n",
    "print(dl_dw.shape)"
   ]
  },
  {
   "cell_type": "code",
   "execution_count": 16,
   "id": "e6247364-ad48-4ff7-bc8c-1a0d522f245b",
   "metadata": {
    "tags": []
   },
   "outputs": [
    {
     "data": {
      "text/markdown": [
       "Here is the gradient calculation again, this time passing a dictionary of variables:\n"
      ],
      "text/plain": [
       "<IPython.core.display.Markdown object>"
      ]
     },
     "metadata": {},
     "output_type": "display_data"
    }
   ],
   "source": [
    "%%markdown\n",
    "Here is the gradient calculation again, this time passing a dictionary of variables:"
   ]
  },
  {
   "cell_type": "code",
   "execution_count": 17,
   "id": "5b777d93-287f-46c6-a94f-647bec9de238",
   "metadata": {
    "tags": []
   },
   "outputs": [
    {
     "data": {
      "text/plain": [
       "<tf.Tensor: shape=(2,), dtype=float32, numpy=array([-0.52008176,  1.1025016 ], dtype=float32)>"
      ]
     },
     "execution_count": 17,
     "metadata": {},
     "output_type": "execute_result"
    }
   ],
   "source": [
    "my_vars = {\n",
    "    'w': w,\n",
    "    'b': b\n",
    "}\n",
    "\n",
    "grad = tape.gradient(loss, my_vars)\n",
    "grad['b']"
   ]
  },
  {
   "cell_type": "code",
   "execution_count": 24,
   "id": "3a586eb8-0279-4a8b-8577-5003aafdb8c1",
   "metadata": {
    "tags": []
   },
   "outputs": [
    {
     "data": {
      "text/markdown": [
       "## Gradients with respect to a model\n",
       "\n",
       "It's common to collect `tf.Variables` into a `tf.Module` or one of its subclasses (`layers.Layer`, `keras.Model`) for checkpointing and exporting.\n",
       "\n",
       "In most cases, you will want to calculate gradients with respect to a model's trainable variables.\n",
       "Since all subclasses of `tf.Module` aggregate their variables in the `Module.trainable_variables` property,\n",
       "you can calculate these gradients in a few lines of code:\n"
      ],
      "text/plain": [
       "<IPython.core.display.Markdown object>"
      ]
     },
     "metadata": {},
     "output_type": "display_data"
    }
   ],
   "source": [
    "%%markdown\n",
    "## Gradients with respect to a model\n",
    "\n",
    "It's common to collect `tf.Variables` into a `tf.Module` or one of its subclasses (`layers.Layer`, `keras.Model`) for checkpointing and exporting.\n",
    "\n",
    "In most cases, you will want to calculate gradients with respect to a model's trainable variables.\n",
    "Since all subclasses of `tf.Module` aggregate their variables in the `Module.trainable_variables` property,\n",
    "you can calculate these gradients in a few lines of code:"
   ]
  },
  {
   "cell_type": "code",
   "execution_count": 22,
   "id": "8d541e18-5b98-4da3-9152-733daee179a7",
   "metadata": {
    "tags": []
   },
   "outputs": [
    {
     "data": {
      "text/plain": [
       "[<tf.Tensor: shape=(3, 2), dtype=float32, numpy=\n",
       " array([[ 3.5541344,  5.517792 ],\n",
       "        [ 7.1082687, 11.035584 ],\n",
       "        [10.662403 , 16.553377 ]], dtype=float32)>,\n",
       " <tf.Tensor: shape=(2,), dtype=float32, numpy=array([3.5541344, 5.517792 ], dtype=float32)>]"
      ]
     },
     "execution_count": 22,
     "metadata": {},
     "output_type": "execute_result"
    }
   ],
   "source": [
    "layer = tf.keras.layers.Dense(2, activation='relu')\n",
    "x = tf.constant([[1., 2., 3.]])\n",
    "\n",
    "with tf.GradientTape() as tape:\n",
    "  # Forward pass\n",
    "  y = layer(x)\n",
    "  loss = tf.reduce_mean(y**2)\n",
    "\n",
    "# Calculate gradients with respect to every trainable variable\n",
    "grad = tape.gradient(loss, layer.trainable_variables)\n",
    "grad"
   ]
  },
  {
   "cell_type": "code",
   "execution_count": 23,
   "id": "bafa3110-d0f0-4aa5-b38f-2490aa86e7e1",
   "metadata": {
    "tags": []
   },
   "outputs": [
    {
     "name": "stdout",
     "output_type": "stream",
     "text": [
      "dense_3/kernel:0, shape: (3, 2)\n",
      "dense_3/bias:0, shape: (2,)\n"
     ]
    }
   ],
   "source": [
    "for var, g in zip(layer.trainable_variables, grad):\n",
    "  print(f'{var.name}, shape: {g.shape}')"
   ]
  },
  {
   "cell_type": "code",
   "execution_count": 26,
   "id": "12beb5b1-f0e2-468a-88bf-06d0e4862f20",
   "metadata": {
    "tags": []
   },
   "outputs": [
    {
     "data": {
      "text/markdown": [
       "## Controlling what the tape watches\n",
       "The default behavior is to record all operations after accessing a trainable `tf.Variable`. The reasons for this are:\n",
       "\n",
       "- The tape needs to know which operations to record in the forward pass to calculate the gradients in the backwards pass.\n",
       "- The tape holds references to intermediate outputs, so you don't want to record unnecessary operations.\n",
       "- The most common use case involves calculating the gradient of a loss with respect to all a model's trainable variables.\n",
       "\n",
       "For example, the following fails to calculate a gradient because the `tf.Tensor` is not \"watched\" by default,\n",
       "and the `tf.Variable` is not trainable:\n"
      ],
      "text/plain": [
       "<IPython.core.display.Markdown object>"
      ]
     },
     "metadata": {},
     "output_type": "display_data"
    }
   ],
   "source": [
    "%%markdown\n",
    "## Controlling what the tape watches\n",
    "The default behavior is to record all operations after accessing a trainable `tf.Variable`. The reasons for this are:\n",
    "\n",
    "- The tape needs to know which operations to record in the forward pass to calculate the gradients in the backwards pass.\n",
    "- The tape holds references to intermediate outputs, so you don't want to record unnecessary operations.\n",
    "- The most common use case involves calculating the gradient of a loss with respect to all a model's trainable variables.\n",
    "\n",
    "For example, the following fails to calculate a gradient because the `tf.Tensor` is not \"watched\" by default,\n",
    "and the `tf.Variable` is not trainable:"
   ]
  },
  {
   "cell_type": "code",
   "execution_count": 29,
   "id": "7ebe1009-e2de-452a-aaa2-97e490b70baa",
   "metadata": {
    "tags": []
   },
   "outputs": [
    {
     "name": "stdout",
     "output_type": "stream",
     "text": [
      "tf.Tensor(6.0, shape=(), dtype=float32)\n",
      "None\n",
      "None\n",
      "None\n"
     ]
    }
   ],
   "source": [
    "# A trainable variable\n",
    "x0 = tf.Variable(3.0, name='v0')\n",
    "# Not trainable\n",
    "x1 = tf.Variable(3.0, name='v1', trainable=False)\n",
    "# Not a Variable: A variable + tensor returns a tensor.\n",
    "x2 = tf.Variable(2.0, name='v2') + 1.0\n",
    "# Not a variable\n",
    "x3 = tf.constant(3.0, name='v3')\n",
    "\n",
    "with tf.GradientTape() as tape:\n",
    "  y = (x0**2) + (x1**2) + (x2**2)\n",
    "\n",
    "grad = tape.gradient(y, [x0, x1, x2, x3])\n",
    "\n",
    "for g in grad:\n",
    "  print(g)"
   ]
  },
  {
   "cell_type": "code",
   "execution_count": 31,
   "id": "ee93472c-29c0-4adc-a2d1-686aa5a3d39b",
   "metadata": {
    "tags": []
   },
   "outputs": [
    {
     "data": {
      "text/markdown": [
       "You can list the variables being watched by the tape using the `GradientTape.watched_variables` method:\n"
      ],
      "text/plain": [
       "<IPython.core.display.Markdown object>"
      ]
     },
     "metadata": {},
     "output_type": "display_data"
    }
   ],
   "source": [
    "%%markdown\n",
    "You can list the variables being watched by the tape using the `GradientTape.watched_variables` method:"
   ]
  },
  {
   "cell_type": "code",
   "execution_count": 32,
   "id": "4e3424da-83b6-405a-9ed1-212025278c0b",
   "metadata": {
    "tags": []
   },
   "outputs": [
    {
     "data": {
      "text/plain": [
       "['v0:0']"
      ]
     },
     "execution_count": 32,
     "metadata": {},
     "output_type": "execute_result"
    }
   ],
   "source": [
    "[var.name for var in tape.watched_variables()]"
   ]
  },
  {
   "cell_type": "code",
   "execution_count": 33,
   "id": "c39c85cb-5c31-4aa7-b90c-f95ba7ca2f57",
   "metadata": {
    "tags": []
   },
   "outputs": [
    {
     "data": {
      "text/markdown": [
       "`tf.GradientTape` provides hooks that give the user control over what is or is not watched.\n",
       "\n",
       "To record gradients with respect to a `tf.Tensor`, you need to call `GradientTape.watch(x)`:\n"
      ],
      "text/plain": [
       "<IPython.core.display.Markdown object>"
      ]
     },
     "metadata": {},
     "output_type": "display_data"
    }
   ],
   "source": [
    "%%markdown\n",
    "`tf.GradientTape` provides hooks that give the user control over what is or is not watched.\n",
    "\n",
    "To record gradients with respect to a `tf.Tensor`, you need to call `GradientTape.watch(x)`:"
   ]
  },
  {
   "cell_type": "code",
   "execution_count": 35,
   "id": "2b7fdb2e-84c8-47cf-96b1-8559feb9833b",
   "metadata": {
    "tags": []
   },
   "outputs": [
    {
     "name": "stdout",
     "output_type": "stream",
     "text": [
      "tf.Tensor(6.0, shape=(), dtype=float32)\n",
      "None\n",
      "tf.Tensor(6.0, shape=(), dtype=float32)\n",
      "None\n"
     ]
    }
   ],
   "source": [
    "# A trainable variable\n",
    "x0 = tf.Variable(3.0, name='v0')\n",
    "# Not trainable\n",
    "x1 = tf.Variable(3.0, name='v1', trainable=False)\n",
    "# Not a Variable: A variable + tensor returns a tensor.\n",
    "x2 = tf.Variable(2.0, name='v2') + 1.0\n",
    "# Not a variable\n",
    "x3 = tf.constant(3.0, name='v3')\n",
    "\n",
    "with tf.GradientTape() as tape:\n",
    "    tape.watch(x2) # Record gradient of a Tensor\n",
    "    y = (x0**2) + (x1**2) + (x2**2)\n",
    "\n",
    "grad = tape.gradient(y, [x0, x1, x2, x3])\n",
    "\n",
    "for g in grad:\n",
    "  print(g)"
   ]
  },
  {
   "cell_type": "code",
   "execution_count": 36,
   "id": "48a599c8-9f6b-4b06-b02e-a8431f58221e",
   "metadata": {
    "tags": []
   },
   "outputs": [
    {
     "data": {
      "text/markdown": [
       "Conversely, to disable the default behavior of watching all `tf.Variables`,\n",
       "set `watch_accessed_variables=False` when creating the gradient tape.\n",
       "This calculation uses two variables, but only connects the gradient for one of the variables:\n"
      ],
      "text/plain": [
       "<IPython.core.display.Markdown object>"
      ]
     },
     "metadata": {},
     "output_type": "display_data"
    }
   ],
   "source": [
    "%%markdown\n",
    "Conversely, to disable the default behavior of watching all `tf.Variables`,\n",
    "set `watch_accessed_variables=False` when creating the gradient tape.\n",
    "This calculation uses two variables, but only connects the gradient for one of the variables:"
   ]
  },
  {
   "cell_type": "code",
   "execution_count": 37,
   "id": "3e888b9f-1691-4236-a2bf-085f19e5e328",
   "metadata": {
    "tags": []
   },
   "outputs": [],
   "source": [
    "x0 = tf.Variable(0.0)\n",
    "x1 = tf.Variable(10.0)\n",
    "\n",
    "with tf.GradientTape(watch_accessed_variables=False) as tape:\n",
    "    tape.watch(x1)\n",
    "    y0 = tf.math.sin(x0)\n",
    "    y1 = tf.nn.softplus(x1)\n",
    "    y = y0 + y1\n",
    "    ys = tf.reduce_sum(y)"
   ]
  },
  {
   "cell_type": "code",
   "execution_count": 38,
   "id": "5bc97d11-1f78-4b66-891d-1aac43388326",
   "metadata": {
    "tags": []
   },
   "outputs": [
    {
     "data": {
      "text/markdown": [
       "Since `GradientTape.watch` was not called on x0, no gradient is computed with respect to it:\n"
      ],
      "text/plain": [
       "<IPython.core.display.Markdown object>"
      ]
     },
     "metadata": {},
     "output_type": "display_data"
    }
   ],
   "source": [
    "%%markdown\n",
    "Since `GradientTape.watch` was not called on x0, no gradient is computed with respect to it:"
   ]
  },
  {
   "cell_type": "code",
   "execution_count": 39,
   "id": "a8c747d7-3950-47bf-803e-c5a7d34e9f2f",
   "metadata": {
    "tags": []
   },
   "outputs": [
    {
     "name": "stdout",
     "output_type": "stream",
     "text": [
      "dy/dx0: None\n",
      "dy/dx1: 0.9999546\n"
     ]
    }
   ],
   "source": [
    "# dys/dx1 = exp(x1) / (1 + exp(x1)) = sigmoid(x1)\n",
    "grad = tape.gradient(ys, {'x0': x0, 'x1': x1})\n",
    "\n",
    "print('dy/dx0:', grad['x0'])\n",
    "print('dy/dx1:', grad['x1'].numpy())"
   ]
  },
  {
   "cell_type": "code",
   "execution_count": 40,
   "id": "608fb905-0d69-4642-b8a9-bf33814d6d29",
   "metadata": {
    "tags": []
   },
   "outputs": [
    {
     "data": {
      "text/markdown": [
       "## Intermediate results\n",
       "\n",
       "You can also request gradients of the output with respect to intermediate values computed inside\n",
       "the `tf.GradientTape` context.\n"
      ],
      "text/plain": [
       "<IPython.core.display.Markdown object>"
      ]
     },
     "metadata": {},
     "output_type": "display_data"
    }
   ],
   "source": [
    "%%markdown\n",
    "## Intermediate results\n",
    "\n",
    "You can also request gradients of the output with respect to intermediate values computed inside\n",
    "the `tf.GradientTape` context."
   ]
  },
  {
   "cell_type": "code",
   "execution_count": 41,
   "id": "d3d77a48-7bf9-4dfc-9f55-69b3777de32f",
   "metadata": {
    "tags": []
   },
   "outputs": [
    {
     "name": "stdout",
     "output_type": "stream",
     "text": [
      "18.0\n"
     ]
    }
   ],
   "source": [
    "x = tf.constant(3.0)\n",
    "\n",
    "with tf.GradientTape() as tape:\n",
    "  tape.watch(x)\n",
    "  y = x * x\n",
    "  z = y * y\n",
    "\n",
    "# Use the tape to compute the gradient of z with respect to the\n",
    "# intermediate value y.\n",
    "# dz_dy = 2 * y and y = x ** 2 = 9\n",
    "print(tape.gradient(z, y).numpy())"
   ]
  },
  {
   "cell_type": "code",
   "execution_count": 42,
   "id": "d1bd40bd-1ec1-464d-a950-e538b67a8a97",
   "metadata": {
    "tags": []
   },
   "outputs": [
    {
     "data": {
      "text/markdown": [
       "## Gradients of non-scalar targets\n",
       "\n",
       "A gradient is fundamentally an operation on a scalar.\n"
      ],
      "text/plain": [
       "<IPython.core.display.Markdown object>"
      ]
     },
     "metadata": {},
     "output_type": "display_data"
    }
   ],
   "source": [
    "%%markdown\n",
    "## Gradients of non-scalar targets\n",
    "\n",
    "A gradient is fundamentally an operation on a scalar."
   ]
  },
  {
   "cell_type": "code",
   "execution_count": 43,
   "id": "52369430-6b05-409b-a1f7-3137bf37f7d9",
   "metadata": {
    "tags": []
   },
   "outputs": [
    {
     "name": "stdout",
     "output_type": "stream",
     "text": [
      "4.0\n",
      "-0.25\n"
     ]
    }
   ],
   "source": [
    "x = tf.Variable(2.0)\n",
    "with tf.GradientTape(persistent=True) as tape:\n",
    "    y0 = x ** 2\n",
    "    y1 = 1 / x\n",
    "\n",
    "print(tape.gradient(y0, x).numpy())\n",
    "print(tape.gradient(y1, x).numpy())"
   ]
  },
  {
   "cell_type": "code",
   "execution_count": 44,
   "id": "069b5945-13da-4478-bb25-cb8fbfea3e95",
   "metadata": {
    "tags": []
   },
   "outputs": [
    {
     "data": {
      "text/markdown": [
       "Thus, if you ask for the gradient of multiple targets, the result for each source is:\n",
       "\n",
       "- The gradient of the sum of the targets, or equivalently\n",
       "- The sum of the gradients of each target.\n"
      ],
      "text/plain": [
       "<IPython.core.display.Markdown object>"
      ]
     },
     "metadata": {},
     "output_type": "display_data"
    }
   ],
   "source": [
    "%%markdown\n",
    "Thus, if you ask for the gradient of multiple targets, the result for each source is:\n",
    "\n",
    "- The gradient of the sum of the targets, or equivalently\n",
    "- The sum of the gradients of each target."
   ]
  },
  {
   "cell_type": "code",
   "execution_count": 45,
   "id": "31c1b8fa-89aa-422c-8aac-5234bf187829",
   "metadata": {
    "tags": []
   },
   "outputs": [
    {
     "name": "stdout",
     "output_type": "stream",
     "text": [
      "3.75\n"
     ]
    }
   ],
   "source": [
    "x = tf.Variable(2.0)\n",
    "with tf.GradientTape() as tape:\n",
    "    y0 = x ** 2\n",
    "    y1 = 1 / x\n",
    "\n",
    "print(tape.gradient({'y0': y0, 'y1': y1}, x).numpy())"
   ]
  },
  {
   "cell_type": "code",
   "execution_count": 46,
   "id": "bf137526-e414-4d64-93db-77c1b9e22a36",
   "metadata": {
    "tags": []
   },
   "outputs": [
    {
     "data": {
      "text/markdown": [
       "Similarly, if the target(s) are not scalar the gradient of the sum is calculated:\n"
      ],
      "text/plain": [
       "<IPython.core.display.Markdown object>"
      ]
     },
     "metadata": {},
     "output_type": "display_data"
    }
   ],
   "source": [
    "%%markdown\n",
    "Similarly, if the target(s) are not scalar the gradient of the sum is calculated:"
   ]
  },
  {
   "cell_type": "code",
   "execution_count": 47,
   "id": "50fe3de7-66ab-4ae0-a077-97ea3471d7f6",
   "metadata": {
    "tags": []
   },
   "outputs": [
    {
     "name": "stdout",
     "output_type": "stream",
     "text": [
      "7.0\n"
     ]
    }
   ],
   "source": [
    "x = tf.Variable(2.)\n",
    "\n",
    "with tf.GradientTape() as tape:\n",
    "  y = x * [3., 4.]\n",
    "\n",
    "print(tape.gradient(y, x).numpy())"
   ]
  },
  {
   "cell_type": "code",
   "execution_count": 49,
   "id": "246ca4f7-d15f-4173-8f01-f16c8604ed04",
   "metadata": {
    "tags": []
   },
   "outputs": [
    {
     "data": {
      "text/markdown": [
       "This makes it simple to take the gradient of the sum of a collection of losses\n",
       ", or the gradient of the sum of an element-wise loss calculation.\n",
       "\n",
       "If you need a separate gradient for each item, refer to `Jacobians`.\n",
       "\n",
       "In some cases you can skip the Jacobian. For an element-wise calculation\n",
       ", the gradient of the sum gives the derivative of each element with respect to its input-element\n",
       ", since each element is independent:\n"
      ],
      "text/plain": [
       "<IPython.core.display.Markdown object>"
      ]
     },
     "metadata": {},
     "output_type": "display_data"
    }
   ],
   "source": [
    "%%markdown\n",
    "This makes it simple to take the gradient of the sum of a collection of losses\n",
    ", or the gradient of the sum of an element-wise loss calculation.\n",
    "\n",
    "If you need a separate gradient for each item, refer to `Jacobians`.\n",
    "\n",
    "In some cases you can skip the Jacobian. For an element-wise calculation\n",
    ", the gradient of the sum gives the derivative of each element with respect to its input-element\n",
    ", since each element is independent:"
   ]
  },
  {
   "cell_type": "code",
   "execution_count": 51,
   "id": "9fe1f704-8527-4a8c-b087-60d15b60f80d",
   "metadata": {
    "tags": []
   },
   "outputs": [
    {
     "data": {
      "text/plain": [
       "<tf.Tensor: shape=(201,), dtype=float32, numpy=\n",
       "array([4.53958055e-05, 5.01696668e-05, 5.54454418e-05, 6.12759977e-05,\n",
       "       6.77195421e-05, 7.48406237e-05, 8.27104086e-05, 9.14074990e-05,\n",
       "       1.01019003e-04, 1.11640831e-04, 1.23379359e-04, 1.36351780e-04,\n",
       "       1.50687614e-04, 1.66530372e-04, 1.84037970e-04, 2.03385585e-04,\n",
       "       2.24766336e-04, 2.48393306e-04, 2.74502818e-04, 3.03354871e-04,\n",
       "       3.35237681e-04, 3.70468944e-04, 4.09399363e-04, 4.52417444e-04,\n",
       "       4.99951013e-04, 5.52473008e-04, 6.10506395e-04, 6.74626906e-04,\n",
       "       7.45472440e-04, 8.23745097e-04, 9.10221192e-04, 1.00575748e-03,\n",
       "       1.11129810e-03, 1.22788746e-03, 1.35667447e-03, 1.49892876e-03,\n",
       "       1.65605021e-03, 1.82957889e-03, 2.02121888e-03, 2.23284075e-03,\n",
       "       2.46650935e-03, 2.72449688e-03, 3.00930650e-03, 3.32368701e-03,\n",
       "       3.67066660e-03, 4.05357219e-03, 4.47605597e-03, 4.94213402e-03,\n",
       "       5.45620080e-03, 6.02308102e-03, 6.64805667e-03, 7.33690662e-03,\n",
       "       8.09594616e-03, 8.93206056e-03, 9.85276420e-03, 1.08662304e-02,\n",
       "       1.19813345e-02, 1.32077131e-02, 1.45557625e-02, 1.60367284e-02,\n",
       "       1.76627059e-02, 1.94466673e-02, 2.14024857e-02, 2.35449132e-02,\n",
       "       2.58895941e-02, 2.84530222e-02, 3.12524661e-02, 3.43058892e-02,\n",
       "       3.76317762e-02, 4.12490219e-02, 4.51766625e-02, 4.94335666e-02,\n",
       "       5.40381297e-02, 5.90077192e-02, 6.43583089e-02, 7.01037124e-02,\n",
       "       7.62549937e-02, 8.28195885e-02, 8.98003429e-02, 9.71947163e-02,\n",
       "       1.04993582e-01, 1.13180295e-01, 1.21729329e-01, 1.30605757e-01,\n",
       "       1.39763847e-01, 1.49146453e-01, 1.58684939e-01, 1.68298349e-01,\n",
       "       1.77894458e-01, 1.87369928e-01, 1.96611941e-01, 2.05500335e-01,\n",
       "       2.13909671e-01, 2.21712887e-01, 2.28784278e-01, 2.35003710e-01,\n",
       "       2.40260765e-01, 2.44458303e-01, 2.47516572e-01, 2.49376029e-01,\n",
       "       2.50000000e-01, 2.49376029e-01, 2.47516587e-01, 2.44458303e-01,\n",
       "       2.40260705e-01, 2.35003710e-01, 2.28784218e-01, 2.21712887e-01,\n",
       "       2.13909671e-01, 2.05500260e-01, 1.96611926e-01, 1.87369838e-01,\n",
       "       1.77894443e-01, 1.68298304e-01, 1.58684835e-01, 1.49146438e-01,\n",
       "       1.39763758e-01, 1.30605742e-01, 1.21729344e-01, 1.13180213e-01,\n",
       "       1.04993574e-01, 9.71946642e-02, 8.98003504e-02, 8.28195363e-02,\n",
       "       7.62549862e-02, 7.01037124e-02, 6.43582866e-02, 5.90077341e-02,\n",
       "       5.40381111e-02, 4.94335368e-02, 4.51766551e-02, 4.12489809e-02,\n",
       "       3.76317799e-02, 3.43058519e-02, 3.12524699e-02, 2.84530446e-02,\n",
       "       2.58895643e-02, 2.35448945e-02, 2.14024913e-02, 1.94466617e-02,\n",
       "       1.76627338e-02, 1.60366967e-02, 1.45557523e-02, 1.32076964e-02,\n",
       "       1.19813140e-02, 1.08662117e-02, 9.85273253e-03, 8.93205591e-03,\n",
       "       8.09593033e-03, 7.33687775e-03, 6.64803293e-03, 6.02310384e-03,\n",
       "       5.45621011e-03, 4.94212657e-03, 4.47605969e-03, 4.05359641e-03,\n",
       "       3.67064914e-03, 3.32369935e-03, 3.00932792e-03, 2.72451527e-03,\n",
       "       2.46652518e-03, 2.23284843e-03, 2.02120445e-03, 1.82960229e-03,\n",
       "       1.65604567e-03, 1.49894902e-03, 1.35666353e-03, 1.22789398e-03,\n",
       "       1.11128297e-03, 1.00576843e-03, 9.10226954e-04, 8.23771697e-04,\n",
       "       7.45455211e-04, 6.74626499e-04, 6.10514835e-04, 5.52467944e-04,\n",
       "       4.99952002e-04, 4.52432781e-04, 4.09375789e-04, 3.70484311e-04,\n",
       "       3.35223274e-04, 3.03355162e-04, 2.74523190e-04, 2.48370430e-04,\n",
       "       2.24778167e-04, 2.03389267e-04, 1.84025266e-04, 1.66507642e-04,\n",
       "       1.50657841e-04, 1.36356830e-04, 1.23366393e-04, 1.11627036e-04,\n",
       "       1.01019665e-04, 9.14251650e-05, 8.27244003e-05, 7.48578314e-05,\n",
       "       6.77062926e-05, 6.12698204e-05, 5.54292455e-05, 5.01845934e-05,\n",
       "       4.54166766e-05], dtype=float32)>"
      ]
     },
     "execution_count": 51,
     "metadata": {},
     "output_type": "execute_result"
    }
   ],
   "source": [
    "x = tf.linspace(-10.0, 10.0, 200+1)\n",
    "\n",
    "with tf.GradientTape() as tape:\n",
    "    tape.watch(x)\n",
    "    y = tf.nn.sigmoid(x)\n",
    "\n",
    "dy_dx = tape.gradient(y, x)\n",
    "dy_dx"
   ]
  },
  {
   "cell_type": "code",
   "execution_count": 58,
   "id": "e21945ec-2a52-43d9-a0bb-42ae9f91ef26",
   "metadata": {
    "tags": []
   },
   "outputs": [
    {
     "data": {
      "image/png": "[encoded data removed]",
      "text/plain": [
       "<Figure size 640x480 with 1 Axes>"
      ]
     },
     "metadata": {},
     "output_type": "display_data"
    }
   ],
   "source": [
    "plt.plot(x, y, label='y')\n",
    "plt.plot(x, dy_dx, label='dy/dx')\n",
    "plt.legend()\n",
    "_ = plt.xlabel('x')"
   ]
  },
  {
   "cell_type": "code",
   "execution_count": 59,
   "id": "781cd509-eace-4400-8cb0-40153fa97489",
   "metadata": {
    "tags": []
   },
   "outputs": [
    {
     "data": {
      "text/markdown": [
       "## Control flow\n",
       "\n",
       "Because a gradient tape records operations as they are executed\n",
       ", Python control flow is naturally handled (for example, `if` and `while` statements).\n",
       "\n",
       "Here a different variable is used on each branch of an if. The gradient only connects to the variable that was used:\n"
      ],
      "text/plain": [
       "<IPython.core.display.Markdown object>"
      ]
     },
     "metadata": {},
     "output_type": "display_data"
    }
   ],
   "source": [
    "%%markdown\n",
    "## Control flow\n",
    "\n",
    "Because a gradient tape records operations as they are executed\n",
    ", Python control flow is naturally handled (for example, `if` and `while` statements).\n",
    "\n",
    "Here a different variable is used on each branch of an if. The gradient only connects to the variable that was used:"
   ]
  },
  {
   "cell_type": "code",
   "execution_count": 62,
   "id": "1f0cb5a1-a702-49d3-b346-03859721d060",
   "metadata": {
    "tags": []
   },
   "outputs": [
    {
     "name": "stdout",
     "output_type": "stream",
     "text": [
      "tf.Tensor(1.0, shape=(), dtype=float32)\n",
      "None\n"
     ]
    }
   ],
   "source": [
    "x = tf.constant(1.0)\n",
    "\n",
    "v0 = tf.Variable(2.0)\n",
    "v1 = tf.Variable(2.0)\n",
    "\n",
    "with tf.GradientTape(persistent=True) as tape:\n",
    "    tape.watch(x)\n",
    "    if x > 0.0:\n",
    "        result = v0\n",
    "    else:\n",
    "        result = v1 ** 2\n",
    "\n",
    "dv0, dv1 = tape.gradient(result, [v0, v1])\n",
    "\n",
    "print(dv0)\n",
    "print(dv1)"
   ]
  },
  {
   "cell_type": "code",
   "execution_count": 63,
   "id": "42f8a44b-dfe9-470b-8972-87f51deb5a2f",
   "metadata": {
    "tags": []
   },
   "outputs": [
    {
     "data": {
      "text/markdown": [
       "Just remember that the control statements themselves are not differentiable\n",
       ", so they are invisible to gradient-based optimizers.\n",
       "\n",
       "Depending on the value of `x` in the above example, the tape either records `result = v0` or `result = v1**2`.\n",
       "The gradient with respect to `x` is always `None`.\n"
      ],
      "text/plain": [
       "<IPython.core.display.Markdown object>"
      ]
     },
     "metadata": {},
     "output_type": "display_data"
    }
   ],
   "source": [
    "%%markdown\n",
    "Just remember that the control statements themselves are not differentiable\n",
    ", so they are invisible to gradient-based optimizers.\n",
    "\n",
    "Depending on the value of `x` in the above example, the tape either records `result = v0` or `result = v1**2`.\n",
    "The gradient with respect to `x` is always `None`."
   ]
  },
  {
   "cell_type": "code",
   "execution_count": 64,
   "id": "8312d97f-f075-4f48-accf-0559b4f3be36",
   "metadata": {
    "tags": []
   },
   "outputs": [
    {
     "name": "stdout",
     "output_type": "stream",
     "text": [
      "None\n"
     ]
    }
   ],
   "source": [
    "dx = tape.gradient(result, x)\n",
    "\n",
    "print(dx)"
   ]
  },
  {
   "cell_type": "code",
   "execution_count": 66,
   "id": "5d6788f2-bd4a-40fa-bcef-558b3fa96910",
   "metadata": {
    "tags": []
   },
   "outputs": [
    {
     "data": {
      "text/markdown": [
       "## Cases where `gradient` returns `None`\n",
       "\n",
       "When a target is not connected to a source, gradient will return `None`.\n"
      ],
      "text/plain": [
       "<IPython.core.display.Markdown object>"
      ]
     },
     "metadata": {},
     "output_type": "display_data"
    }
   ],
   "source": [
    "%%markdown\n",
    "## Cases where `gradient` returns `None`\n",
    "\n",
    "When a target is not connected to a source, gradient will return `None`."
   ]
  },
  {
   "cell_type": "code",
   "execution_count": 68,
   "id": "501cef73-bad0-4419-bf44-a997d7ad22d9",
   "metadata": {
    "tags": []
   },
   "outputs": [
    {
     "name": "stdout",
     "output_type": "stream",
     "text": [
      "None\n"
     ]
    }
   ],
   "source": [
    "x = tf.Variable(2.)\n",
    "y = tf.Variable(3.)\n",
    "\n",
    "with tf.GradientTape() as tape:\n",
    "    z = y * y\n",
    "print(tape.gradient(z, x))"
   ]
  },
  {
   "cell_type": "code",
   "execution_count": 69,
   "id": "9a5b2567-9ef7-4730-80ba-361b6643ee7e",
   "metadata": {
    "tags": []
   },
   "outputs": [
    {
     "data": {
      "text/markdown": [
       "Here `z` is obviously not connected to `x`, but there are several less-obvious ways that a gradient can be disconnected.\n",
       "\n",
       "### 1. Replaced a `variable` with a `tensor`\n",
       "\n",
       "In the section on `\"controlling what the tape watches\"` you saw that\n",
       "the tape will automatically watch a `tf.Variable` but not a `tf.Tensor`.\n",
       "\n",
       "One common error is to inadvertently replace a `tf.Variable` with a `tf.Tensor`\n",
       ", instead of using `Variable.assign` to update the `tf.Variable`.\n",
       "Here is an example:\n"
      ],
      "text/plain": [
       "<IPython.core.display.Markdown object>"
      ]
     },
     "metadata": {},
     "output_type": "display_data"
    }
   ],
   "source": [
    "%%markdown\n",
    "Here `z` is obviously not connected to `x`, but there are several less-obvious ways that a gradient can be disconnected.\n",
    "\n",
    "### 1. Replaced a `variable` with a `tensor`\n",
    "\n",
    "In the section on `\"controlling what the tape watches\"` you saw that\n",
    "the tape will automatically watch a `tf.Variable` but not a `tf.Tensor`.\n",
    "\n",
    "One common error is to inadvertently replace a `tf.Variable` with a `tf.Tensor`\n",
    ", instead of using `Variable.assign` to update the `tf.Variable`.\n",
    "Here is an example:"
   ]
  },
  {
   "cell_type": "code",
   "execution_count": 85,
   "id": "8b8a3f1a-d641-4e6a-8c25-828344108c06",
   "metadata": {
    "tags": []
   },
   "outputs": [
    {
     "name": "stdout",
     "output_type": "stream",
     "text": [
      "Epoch - 0\n",
      "ResourceVariable : tf.Tensor(1.0, shape=(), dtype=float32)\n",
      "Epoch - 1\n",
      "EagerTensor : None\n",
      "--------------------------------------------------\n",
      "Epoch - 0\n",
      "EagerTensor : tf.Tensor(1.0, shape=(), dtype=float32)\n",
      "Epoch - 1\n",
      "EagerTensor : tf.Tensor(1.0, shape=(), dtype=float32)\n"
     ]
    }
   ],
   "source": [
    "x = tf.Variable(2.0)\n",
    "p = tf.Variable(3.0)\n",
    "\n",
    "for epoch in range(2):\n",
    "    print(f\"Epoch - {epoch}\")\n",
    "    with tf.GradientTape() as tape:\n",
    "        y = x + 1\n",
    "\n",
    "    print(type(x).__name__, \":\", tape.gradient(y, x))\n",
    "    x = x + 1   # This should be `x.assign_add(1)` - shown below\n",
    "print('-' * 50)\n",
    "for epoch in range(2):\n",
    "    print(f\"Epoch - {epoch}\")\n",
    "    with tf.GradientTape() as tape:\n",
    "        q = p * 1\n",
    "\n",
    "    print(type(x).__name__, \":\", tape.gradient(q, p))\n",
    "    p.assign_add(1)"
   ]
  },
  {
   "cell_type": "code",
   "execution_count": 86,
   "id": "4a49f726-17e7-4548-ad43-be8819fc54d5",
   "metadata": {
    "tags": []
   },
   "outputs": [
    {
     "data": {
      "text/markdown": [
       "### 2. Did calculations outside of `TensorFlow`\n",
       "The tape can't record the gradient path if the calculation exits outside `TensorFlow`. For example:\n"
      ],
      "text/plain": [
       "<IPython.core.display.Markdown object>"
      ]
     },
     "metadata": {},
     "output_type": "display_data"
    }
   ],
   "source": [
    "%%markdown\n",
    "### 2. Did calculations outside of `TensorFlow`\n",
    "The tape can't record the gradient path if the calculation exits outside `TensorFlow`. For example:"
   ]
  },
  {
   "cell_type": "code",
   "execution_count": 87,
   "id": "79b948bf-d055-4789-94b0-355eada0104c",
   "metadata": {
    "tags": []
   },
   "outputs": [
    {
     "name": "stdout",
     "output_type": "stream",
     "text": [
      "None\n"
     ]
    }
   ],
   "source": [
    "x = tf.Variable([[1.0, 2.0],\n",
    "                 [3.0, 4.0]], dtype=tf.float32)\n",
    "\n",
    "with tf.GradientTape() as tape:\n",
    "    x2 = x ** 2\n",
    "\n",
    "    # This step is calculated with NumPy\n",
    "    y = np.mean(x2, axis=0)\n",
    "\n",
    "    # Like most ops, reduce_mean will cast the NumPy array to a constant tensor\n",
    "    # using `tf.convert_to_tensor`.\n",
    "    y = tf.reduce_mean(y, axis=0)\n",
    "\n",
    "print(tape.gradient(y, x))"
   ]
  },
  {
   "cell_type": "code",
   "execution_count": 88,
   "id": "3c4ce809-ce8e-4b65-a098-3935069b7fe6",
   "metadata": {
    "tags": []
   },
   "outputs": [
    {
     "data": {
      "text/markdown": [
       "### 3. Took gradients through an integer or string\n",
       "\n",
       "`Integers` and `strings` are not differentiable.\n",
       "If a calculation path uses these data types there will be no gradient.\n",
       "\n",
       "Nobody expects strings to be differentiable\n",
       ", but it's easy to accidentally create an `int` constant or variable if you don't specify the `dtype`.\n"
      ],
      "text/plain": [
       "<IPython.core.display.Markdown object>"
      ]
     },
     "metadata": {},
     "output_type": "display_data"
    }
   ],
   "source": [
    "%%markdown\n",
    "### 3. Took gradients through an integer or string\n",
    "\n",
    "`Integers` and `strings` are not differentiable.\n",
    "If a calculation path uses these data types there will be no gradient.\n",
    "\n",
    "Nobody expects strings to be differentiable\n",
    ", but it's easy to accidentally create an `int` constant or variable if you don't specify the `dtype`."
   ]
  },
  {
   "cell_type": "code",
   "execution_count": 93,
   "id": "86d3acb7-3417-43c7-be99-dca78c28bc52",
   "metadata": {
    "tags": []
   },
   "outputs": [
    {
     "name": "stdout",
     "output_type": "stream",
     "text": [
      "WARNING:tensorflow:The dtype of the watched tensor must be floating (e.g. tf.float32), got tf.int32\n",
      "None\n"
     ]
    }
   ],
   "source": [
    "x = tf.constant(10)\n",
    "\n",
    "with tf.GradientTape() as g:\n",
    "    g.watch(x)\n",
    "    y = x * x\n",
    "\n",
    "print(g.gradient(y, x))"
   ]
  },
  {
   "cell_type": "code",
   "execution_count": 94,
   "id": "6652ad5b-9b0c-4d2e-83ce-b1b5ef897181",
   "metadata": {
    "tags": []
   },
   "outputs": [
    {
     "data": {
      "text/markdown": [
       "### 4. Took gradients through a stateful object\n",
       "\n",
       "`State stops gradients`. When you read from a stateful object\n",
       ", the tape can only observe the current state, not the history that lead to it.\n",
       "\n",
       "A `tf.Tensor` is immutable. You can't change a tensor once it's created.\n",
       "It has a value, but no state. All the operations discussed so far are also stateless:\n",
       "    the output of a `tf.matmul` only depends on its inputs.\n",
       "\n",
       "A `tf.Variable` has internal state—its value. When you use the variable, the state is read.\n",
       "It's normal to calculate a gradient with respect to a variable\n",
       ", but the variable's state blocks gradient calculations from going farther back. For example:\n"
      ],
      "text/plain": [
       "<IPython.core.display.Markdown object>"
      ]
     },
     "metadata": {},
     "output_type": "display_data"
    }
   ],
   "source": [
    "%%markdown\n",
    "### 4. Took gradients through a stateful object\n",
    "\n",
    "`State stops gradients`. When you read from a stateful object\n",
    ", the tape can only observe the current state, not the history that lead to it.\n",
    "\n",
    "A `tf.Tensor` is immutable. You can't change a tensor once it's created.\n",
    "It has a value, but no state. All the operations discussed so far are also stateless:\n",
    "    the output of a `tf.matmul` only depends on its inputs.\n",
    "\n",
    "A `tf.Variable` has internal state—its value. When you use the variable, the state is read.\n",
    "It's normal to calculate a gradient with respect to a variable\n",
    ", but the variable's state blocks gradient calculations from going farther back. For example:"
   ]
  },
  {
   "cell_type": "code",
   "execution_count": 98,
   "id": "a09b9b42-fa34-4776-8aa5-ffa2f0d58612",
   "metadata": {
    "tags": []
   },
   "outputs": [
    {
     "name": "stdout",
     "output_type": "stream",
     "text": [
      "None\n",
      "tf.Tensor(6.0, shape=(), dtype=float32)\n"
     ]
    }
   ],
   "source": [
    "x0 = tf.Variable(3.0)\n",
    "x1 = tf.Variable(0.0)\n",
    "\n",
    "with tf.GradientTape(persistent=True) as tape:\n",
    "  # Update x1 = x1 + x0.\n",
    "  x1.assign_add(x0)\n",
    "  # The tape starts recording from x1.\n",
    "  y = x1 ** 2   # y = (x1 + x0)**2\n",
    "\n",
    "# This doesn't work.\n",
    "print(tape.gradient(y, x0))   #dy/dx0 = 2*(x1 + x0)\n",
    "print(tape.gradient(y, x1))   #dy/dx0 = 2*(x1 + x0)"
   ]
  },
  {
   "cell_type": "code",
   "execution_count": 99,
   "id": "4f218b65-83da-42a3-87d3-9664ab0ca1f8",
   "metadata": {
    "tags": []
   },
   "outputs": [
    {
     "data": {
      "text/markdown": [
       "Similarly, `tf.data.Dataset` iterators and `tf.queues` are stateful\n",
       ", and will stop all gradients on tensors that pass through them.\n"
      ],
      "text/plain": [
       "<IPython.core.display.Markdown object>"
      ]
     },
     "metadata": {},
     "output_type": "display_data"
    }
   ],
   "source": [
    "%%markdown\n",
    "Similarly, `tf.data.Dataset` iterators and `tf.queues` are stateful\n",
    ", and will stop all gradients on tensors that pass through them."
   ]
  },
  {
   "cell_type": "code",
   "execution_count": 100,
   "id": "d627f954-a5b8-47d6-9ce7-2e8cf5a8a273",
   "metadata": {
    "tags": []
   },
   "outputs": [
    {
     "data": {
      "text/markdown": [
       "## No gradient registered\n",
       "\n",
       "Some `tf.Operations` are registered as being non-differentiable and will return None\n",
       ". Others have no gradient registered.\n",
       "\n",
       "The `tf.raw_ops` page shows which low-level ops have gradients registered.\n",
       "\n",
       "If you attempt to take a gradient through a float op that has no gradient registered\n",
       "the tape will throw an error instead of silently returning None.\n",
       "This way you know something has gone wrong.\n",
       "\n",
       "For example, the `tf.image.adjust_contrast` function wraps `raw_ops.AdjustContrastv2`\n",
       ", which could have a gradient but the gradient is not implemented:\n"
      ],
      "text/plain": [
       "<IPython.core.display.Markdown object>"
      ]
     },
     "metadata": {},
     "output_type": "display_data"
    }
   ],
   "source": [
    "%%markdown\n",
    "## No gradient registered\n",
    "\n",
    "Some `tf.Operations` are registered as being non-differentiable and will return None\n",
    ". Others have no gradient registered.\n",
    "\n",
    "The `tf.raw_ops` page shows which low-level ops have gradients registered.\n",
    "\n",
    "If you attempt to take a gradient through a float op that has no gradient registered\n",
    "the tape will throw an error instead of silently returning None.\n",
    "This way you know something has gone wrong.\n",
    "\n",
    "For example, the `tf.image.adjust_contrast` function wraps `raw_ops.AdjustContrastv2`\n",
    ", which could have a gradient but the gradient is not implemented:"
   ]
  },
  {
   "cell_type": "code",
   "execution_count": 101,
   "id": "c9ef957d-f3fd-43a7-acb1-81ce744d761b",
   "metadata": {
    "tags": []
   },
   "outputs": [
    {
     "name": "stdout",
     "output_type": "stream",
     "text": [
      "LookupError: gradient registry has no entry for: AdjustContrastv2\n"
     ]
    }
   ],
   "source": [
    "image = tf.Variable([[[0.5, 0.0, 0.0]]])\n",
    "delta = tf.Variable(0.1)\n",
    "\n",
    "with tf.GradientTape() as tape:\n",
    "    new_image = tf.image.adjust_contrast(image, delta)\n",
    "\n",
    "try:\n",
    "    print(tape.gradient(new_image, [image, delta]))\n",
    "    assert False   # This should not happen.\n",
    "except LookupError as e:\n",
    "    print(f'{type(e).__name__}: {e}')"
   ]
  },
  {
   "cell_type": "code",
   "execution_count": 102,
   "id": "7082349b-1fc7-4184-b664-2f52e1d89f52",
   "metadata": {
    "tags": []
   },
   "outputs": [
    {
     "data": {
      "text/markdown": [
       "\n",
       "If you need to differentiate through this op\n",
       ", you'll either need to implement the gradient and register it (using `tf.RegisterGradient`)\n",
       "or re-implement the function using other ops.\n"
      ],
      "text/plain": [
       "<IPython.core.display.Markdown object>"
      ]
     },
     "metadata": {},
     "output_type": "display_data"
    }
   ],
   "source": [
    "%%markdown\n",
    "\n",
    "If you need to differentiate through this op\n",
    ", you'll either need to implement the gradient and register it (using `tf.RegisterGradient`)\n",
    "or re-implement the function using other ops."
   ]
  },
  {
   "cell_type": "code",
   "execution_count": 103,
   "id": "8f5c5ffd-313e-45f4-8326-16f07fbf6d38",
   "metadata": {
    "tags": []
   },
   "outputs": [
    {
     "data": {
      "text/markdown": [
       "## Zeros instead of None\n",
       "\n",
       "In some cases it would be convenient to get 0 instead of None for unconnected gradients.\n",
       "You can decide what to return when you have unconnected gradients using the `unconnected_gradients` argument:\n"
      ],
      "text/plain": [
       "<IPython.core.display.Markdown object>"
      ]
     },
     "metadata": {},
     "output_type": "display_data"
    }
   ],
   "source": [
    "%%markdown\n",
    "## Zeros instead of None\n",
    "\n",
    "In some cases it would be convenient to get 0 instead of None for unconnected gradients.\n",
    "You can decide what to return when you have unconnected gradients using the `unconnected_gradients` argument:"
   ]
  },
  {
   "cell_type": "code",
   "execution_count": 104,
   "id": "beaf97f4-830e-4c51-af4f-a0ad8dcf4c00",
   "metadata": {
    "tags": []
   },
   "outputs": [
    {
     "name": "stdout",
     "output_type": "stream",
     "text": [
      "tf.Tensor([0. 0.], shape=(2,), dtype=float32)\n"
     ]
    }
   ],
   "source": [
    "x = tf.Variable([2., 2.])\n",
    "y = tf.Variable(3.)\n",
    "\n",
    "with tf.GradientTape() as tape:\n",
    "    z = y**2\n",
    "print(tape.gradient(z, x, unconnected_gradients=tf.UnconnectedGradients.ZERO))"
   ]
  },
  {
   "cell_type": "code",
   "execution_count": null,
   "id": "72caac35-2b9c-4336-9460-6309885eeb1b",
   "metadata": {},
   "outputs": [],
   "source": []
  }
 ],
 "metadata": {
  "kernelspec": {
   "display_name": "sagemaker-distribution:Python",
   "language": "python",
   "name": "conda-env-sagemaker-distribution-py"
  },
  "language_info": {
   "codemirror_mode": {
    "name": "ipython",
    "version": 3
   },
   "file_extension": ".py",
   "mimetype": "text/x-python",
   "name": "python",
   "nbconvert_exporter": "python",
   "pygments_lexer": "ipython3",
   "version": "3.10.14"
  }
 },
 "nbformat": 4,
 "nbformat_minor": 5
}
